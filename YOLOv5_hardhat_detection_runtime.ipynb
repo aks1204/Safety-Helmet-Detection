{
  "nbformat": 4,
  "nbformat_minor": 0,
  "metadata": {
    "colab": {
      "name": "YOLOv5_hardhat_detection_runtime.ipynb",
      "provenance": []
    },
    "kernelspec": {
      "name": "python3",
      "display_name": "Python 3"
    },
    "language_info": {
      "name": "python"
    },
    "accelerator": "TPU"
  },
  "cells": [
    {
      "cell_type": "code",
      "source": [
        "from google.colab import drive\n",
        "drive.mount('/content/drive')"
      ],
      "metadata": {
        "id": "_SkPdF_6NLp6",
        "colab": {
          "base_uri": "https://localhost:8080/"
        },
        "outputId": "aae2c2fd-e928-4945-b8d9-ee9c9fe521ca"
      },
      "execution_count": null,
      "outputs": [
        {
          "output_type": "stream",
          "name": "stdout",
          "text": [
            "Drive already mounted at /content/drive; to attempt to forcibly remount, call drive.mount(\"/content/drive\", force_remount=True).\n"
          ]
        }
      ]
    },
    {
      "cell_type": "code",
      "source": [
        "!git clone https://github.com/ultralytics/yolov5 "
      ],
      "metadata": {
        "colab": {
          "base_uri": "https://localhost:8080/"
        },
        "id": "ed1XZ0ZROVwn",
        "outputId": "c1f20be0-f4cf-460d-ae4f-fc96ea400e62"
      },
      "execution_count": null,
      "outputs": [
        {
          "output_type": "stream",
          "name": "stdout",
          "text": [
            "Cloning into 'yolov5'...\n",
            "remote: Enumerating objects: 12824, done.\u001b[K\n",
            "remote: Total 12824 (delta 0), reused 0 (delta 0), pack-reused 12824\u001b[K\n",
            "Receiving objects: 100% (12824/12824), 11.75 MiB | 28.79 MiB/s, done.\n",
            "Resolving deltas: 100% (8914/8914), done.\n"
          ]
        }
      ]
    },
    {
      "cell_type": "code",
      "source": [
        "%cd yolov5"
      ],
      "metadata": {
        "colab": {
          "base_uri": "https://localhost:8080/"
        },
        "id": "j0SdCiALOYH7",
        "outputId": "977c9ce1-b1be-4e17-904f-5381cfee5a0c"
      },
      "execution_count": null,
      "outputs": [
        {
          "output_type": "stream",
          "name": "stdout",
          "text": [
            "/content/yolov5\n"
          ]
        }
      ]
    },
    {
      "cell_type": "code",
      "source": [
        "!git reset --hard 886f1c03d839575afecb059accf74296fad395b6"
      ],
      "metadata": {
        "colab": {
          "base_uri": "https://localhost:8080/"
        },
        "id": "Rk60x9p4OaiK",
        "outputId": "7cf02a51-8287-4fbd-ac67-6df9655d2552"
      },
      "execution_count": null,
      "outputs": [
        {
          "output_type": "stream",
          "name": "stdout",
          "text": [
            "HEAD is now at 886f1c0 DDP after autoanchor reorder (#2421)\n"
          ]
        }
      ]
    },
    {
      "cell_type": "code",
      "source": [
        "!pip install -qr requirements.txt"
      ],
      "metadata": {
        "colab": {
          "base_uri": "https://localhost:8080/"
        },
        "id": "rQ_UccvxOdLb",
        "outputId": "cb6b48d6-d989-4714-c962-32706e308b74"
      },
      "execution_count": null,
      "outputs": [
        {
          "output_type": "stream",
          "name": "stdout",
          "text": [
            "\u001b[?25l\r\u001b[K     |▌                               | 10 kB 16.9 MB/s eta 0:00:01\r\u001b[K     |█                               | 20 kB 20.3 MB/s eta 0:00:01\r\u001b[K     |█▋                              | 30 kB 11.6 MB/s eta 0:00:01\r\u001b[K     |██▏                             | 40 kB 4.7 MB/s eta 0:00:01\r\u001b[K     |██▊                             | 51 kB 4.4 MB/s eta 0:00:01\r\u001b[K     |███▎                            | 61 kB 5.2 MB/s eta 0:00:01\r\u001b[K     |███▉                            | 71 kB 5.9 MB/s eta 0:00:01\r\u001b[K     |████▍                           | 81 kB 5.6 MB/s eta 0:00:01\r\u001b[K     |█████                           | 92 kB 6.2 MB/s eta 0:00:01\r\u001b[K     |█████▌                          | 102 kB 5.3 MB/s eta 0:00:01\r\u001b[K     |██████                          | 112 kB 5.3 MB/s eta 0:00:01\r\u001b[K     |██████▋                         | 122 kB 5.3 MB/s eta 0:00:01\r\u001b[K     |███████▏                        | 133 kB 5.3 MB/s eta 0:00:01\r\u001b[K     |███████▊                        | 143 kB 5.3 MB/s eta 0:00:01\r\u001b[K     |████████▎                       | 153 kB 5.3 MB/s eta 0:00:01\r\u001b[K     |████████▉                       | 163 kB 5.3 MB/s eta 0:00:01\r\u001b[K     |█████████▍                      | 174 kB 5.3 MB/s eta 0:00:01\r\u001b[K     |██████████                      | 184 kB 5.3 MB/s eta 0:00:01\r\u001b[K     |██████████▍                     | 194 kB 5.3 MB/s eta 0:00:01\r\u001b[K     |███████████                     | 204 kB 5.3 MB/s eta 0:00:01\r\u001b[K     |███████████▌                    | 215 kB 5.3 MB/s eta 0:00:01\r\u001b[K     |████████████                    | 225 kB 5.3 MB/s eta 0:00:01\r\u001b[K     |████████████▋                   | 235 kB 5.3 MB/s eta 0:00:01\r\u001b[K     |█████████████▏                  | 245 kB 5.3 MB/s eta 0:00:01\r\u001b[K     |█████████████▊                  | 256 kB 5.3 MB/s eta 0:00:01\r\u001b[K     |██████████████▎                 | 266 kB 5.3 MB/s eta 0:00:01\r\u001b[K     |██████████████▉                 | 276 kB 5.3 MB/s eta 0:00:01\r\u001b[K     |███████████████▍                | 286 kB 5.3 MB/s eta 0:00:01\r\u001b[K     |████████████████                | 296 kB 5.3 MB/s eta 0:00:01\r\u001b[K     |████████████████▌               | 307 kB 5.3 MB/s eta 0:00:01\r\u001b[K     |█████████████████               | 317 kB 5.3 MB/s eta 0:00:01\r\u001b[K     |█████████████████▋              | 327 kB 5.3 MB/s eta 0:00:01\r\u001b[K     |██████████████████▏             | 337 kB 5.3 MB/s eta 0:00:01\r\u001b[K     |██████████████████▊             | 348 kB 5.3 MB/s eta 0:00:01\r\u001b[K     |███████████████████▎            | 358 kB 5.3 MB/s eta 0:00:01\r\u001b[K     |███████████████████▉            | 368 kB 5.3 MB/s eta 0:00:01\r\u001b[K     |████████████████████▍           | 378 kB 5.3 MB/s eta 0:00:01\r\u001b[K     |████████████████████▉           | 389 kB 5.3 MB/s eta 0:00:01\r\u001b[K     |█████████████████████▍          | 399 kB 5.3 MB/s eta 0:00:01\r\u001b[K     |██████████████████████          | 409 kB 5.3 MB/s eta 0:00:01\r\u001b[K     |██████████████████████▌         | 419 kB 5.3 MB/s eta 0:00:01\r\u001b[K     |███████████████████████         | 430 kB 5.3 MB/s eta 0:00:01\r\u001b[K     |███████████████████████▋        | 440 kB 5.3 MB/s eta 0:00:01\r\u001b[K     |████████████████████████▏       | 450 kB 5.3 MB/s eta 0:00:01\r\u001b[K     |████████████████████████▊       | 460 kB 5.3 MB/s eta 0:00:01\r\u001b[K     |█████████████████████████▎      | 471 kB 5.3 MB/s eta 0:00:01\r\u001b[K     |█████████████████████████▉      | 481 kB 5.3 MB/s eta 0:00:01\r\u001b[K     |██████████████████████████▍     | 491 kB 5.3 MB/s eta 0:00:01\r\u001b[K     |███████████████████████████     | 501 kB 5.3 MB/s eta 0:00:01\r\u001b[K     |███████████████████████████▌    | 512 kB 5.3 MB/s eta 0:00:01\r\u001b[K     |████████████████████████████    | 522 kB 5.3 MB/s eta 0:00:01\r\u001b[K     |████████████████████████████▋   | 532 kB 5.3 MB/s eta 0:00:01\r\u001b[K     |█████████████████████████████▏  | 542 kB 5.3 MB/s eta 0:00:01\r\u001b[K     |█████████████████████████████▊  | 552 kB 5.3 MB/s eta 0:00:01\r\u001b[K     |██████████████████████████████▎ | 563 kB 5.3 MB/s eta 0:00:01\r\u001b[K     |██████████████████████████████▊ | 573 kB 5.3 MB/s eta 0:00:01\r\u001b[K     |███████████████████████████████▎| 583 kB 5.3 MB/s eta 0:00:01\r\u001b[K     |███████████████████████████████▉| 593 kB 5.3 MB/s eta 0:00:01\r\u001b[K     |████████████████████████████████| 596 kB 5.3 MB/s \n",
            "\u001b[?25h"
          ]
        }
      ]
    },
    {
      "cell_type": "code",
      "execution_count": null,
      "metadata": {
        "id": "G68ctxkdIJ4v",
        "colab": {
          "base_uri": "https://localhost:8080/"
        },
        "outputId": "84f90f77-8ae9-4a42-a713-bd2d063f5224"
      },
      "outputs": [
        {
          "output_type": "stream",
          "name": "stdout",
          "text": [
            "Namespace(agnostic_nms=False, augment=False, classes=None, conf_thres=0.4, device='', exist_ok=False, img_size=416, iou_thres=0.45, name='exp', project='runs/detect', save_conf=False, save_txt=False, source='/content/drive/MyDrive/hard_hat_detection/Images', update=False, view_img=False, weights=['/content/drive/MyDrive/hard_hat_detection/best.pt'])\n",
            "YOLOv5 v4.0-126-g886f1c0 torch 1.10.0+cu111 CPU\n",
            "\n",
            "Fusing layers... \n",
            "/usr/local/lib/python3.7/dist-packages/torch/functional.py:445: UserWarning: torch.meshgrid: in an upcoming release, it will be required to pass the indexing argument. (Triggered internally at  ../aten/src/ATen/native/TensorShape.cpp:2157.)\n",
            "  return _VF.meshgrid(tensors, **kwargs)  # type: ignore[attr-defined]\n",
            "Model Summary: 232 layers, 7251912 parameters, 0 gradients, 16.8 GFLOPS\n",
            "image 1/250 /content/drive/MyDrive/hard_hat_detection/Images/hard_hat_workers1015.png: 416x416 1 helmet, Done. (0.294s)\n",
            "image 2/250 /content/drive/MyDrive/hard_hat_detection/Images/hard_hat_workers1018.png: 416x416 3 helmets, Done. (0.206s)\n",
            "image 3/250 /content/drive/MyDrive/hard_hat_detection/Images/hard_hat_workers1031.png: 416x416 3 helmets, Done. (0.207s)\n",
            "image 4/250 /content/drive/MyDrive/hard_hat_detection/Images/hard_hat_workers1044.png: 416x416 1 helmet, Done. (0.203s)\n",
            "image 5/250 /content/drive/MyDrive/hard_hat_detection/Images/hard_hat_workers1068.png: 416x416 2 helmets, Done. (0.208s)\n",
            "image 6/250 /content/drive/MyDrive/hard_hat_detection/Images/hard_hat_workers1072.png: 416x416 3 helmets, Done. (0.222s)\n",
            "image 7/250 /content/drive/MyDrive/hard_hat_detection/Images/hard_hat_workers1095.png: 416x416 7 helmets, Done. (0.200s)\n",
            "image 8/250 /content/drive/MyDrive/hard_hat_detection/Images/hard_hat_workers1102.png: 416x416 3 helmets, Done. (0.210s)\n",
            "image 9/250 /content/drive/MyDrive/hard_hat_detection/Images/hard_hat_workers1109.png: 416x416 6 helmets, Done. (0.231s)\n",
            "image 10/250 /content/drive/MyDrive/hard_hat_detection/Images/hard_hat_workers1123.png: 416x416 1 helmet, Done. (0.201s)\n",
            "image 11/250 /content/drive/MyDrive/hard_hat_detection/Images/hard_hat_workers1188.png: 416x416 5 helmets, Done. (0.219s)\n",
            "image 12/250 /content/drive/MyDrive/hard_hat_detection/Images/hard_hat_workers119.png: 416x416 2 helmets, Done. (0.206s)\n",
            "image 13/250 /content/drive/MyDrive/hard_hat_detection/Images/hard_hat_workers12.png: 416x416 1 helmet, Done. (0.218s)\n",
            "image 14/250 /content/drive/MyDrive/hard_hat_detection/Images/hard_hat_workers121.png: 416x416 14 helmets, Done. (0.216s)\n",
            "image 15/250 /content/drive/MyDrive/hard_hat_detection/Images/hard_hat_workers1228.png: 416x416 2 helmets, Done. (0.257s)\n",
            "image 16/250 /content/drive/MyDrive/hard_hat_detection/Images/hard_hat_workers1294.png: 416x416 5 helmets, Done. (0.209s)\n",
            "image 17/250 /content/drive/MyDrive/hard_hat_detection/Images/hard_hat_workers1321.png: 416x416 1 helmet, Done. (0.228s)\n",
            "image 18/250 /content/drive/MyDrive/hard_hat_detection/Images/hard_hat_workers1335.png: 416x416 10 helmets, Done. (0.212s)\n",
            "image 19/250 /content/drive/MyDrive/hard_hat_detection/Images/hard_hat_workers1348.png: 416x416 1 helmet, Done. (0.219s)\n",
            "image 20/250 /content/drive/MyDrive/hard_hat_detection/Images/hard_hat_workers1372.png: 416x416 3 helmets, Done. (0.207s)\n",
            "image 21/250 /content/drive/MyDrive/hard_hat_detection/Images/hard_hat_workers1374.png: 416x416 1 helmet, Done. (0.207s)\n",
            "image 22/250 /content/drive/MyDrive/hard_hat_detection/Images/hard_hat_workers1391.png: 416x416 5 helmets, Done. (0.212s)\n",
            "image 23/250 /content/drive/MyDrive/hard_hat_detection/Images/hard_hat_workers1456.png: 416x416 11 helmets, Done. (0.219s)\n",
            "image 24/250 /content/drive/MyDrive/hard_hat_detection/Images/hard_hat_workers1543.png: 416x416 5 helmets, Done. (0.198s)\n",
            "image 25/250 /content/drive/MyDrive/hard_hat_detection/Images/hard_hat_workers1548.png: 416x416 3 helmets, Done. (0.206s)\n",
            "image 26/250 /content/drive/MyDrive/hard_hat_detection/Images/hard_hat_workers1563.png: 416x416 2 helmets, Done. (0.206s)\n",
            "image 27/250 /content/drive/MyDrive/hard_hat_detection/Images/hard_hat_workers1574.png: 416x416 4 helmets, Done. (0.199s)\n",
            "image 28/250 /content/drive/MyDrive/hard_hat_detection/Images/hard_hat_workers1578.png: 416x416 8 helmets, Done. (0.217s)\n",
            "image 29/250 /content/drive/MyDrive/hard_hat_detection/Images/hard_hat_workers1586.png: 416x416 1 helmet, Done. (0.205s)\n",
            "image 30/250 /content/drive/MyDrive/hard_hat_detection/Images/hard_hat_workers1598.png: 416x416 10 helmets, Done. (0.203s)\n",
            "image 31/250 /content/drive/MyDrive/hard_hat_detection/Images/hard_hat_workers1662.png: 416x416 2 helmets, Done. (0.206s)\n",
            "image 32/250 /content/drive/MyDrive/hard_hat_detection/Images/hard_hat_workers1673.png: 416x416 2 helmets, Done. (0.205s)\n",
            "image 33/250 /content/drive/MyDrive/hard_hat_detection/Images/hard_hat_workers1684.png: 416x416 3 helmets, Done. (0.210s)\n",
            "image 34/250 /content/drive/MyDrive/hard_hat_detection/Images/hard_hat_workers1697.png: 416x416 6 helmets, Done. (0.207s)\n",
            "image 35/250 /content/drive/MyDrive/hard_hat_detection/Images/hard_hat_workers1703.png: 416x416 4 heads, 8 helmets, Done. (0.202s)\n",
            "image 36/250 /content/drive/MyDrive/hard_hat_detection/Images/hard_hat_workers1721.png: 416x416 1 helmet, Done. (0.207s)\n",
            "image 37/250 /content/drive/MyDrive/hard_hat_detection/Images/hard_hat_workers1724.png: 416x416 6 heads, 3 helmets, Done. (0.223s)\n",
            "image 38/250 /content/drive/MyDrive/hard_hat_detection/Images/hard_hat_workers1782.png: 416x416 2 helmets, Done. (0.207s)\n",
            "image 39/250 /content/drive/MyDrive/hard_hat_detection/Images/hard_hat_workers179.png: 416x416 7 heads, 1 helmet, Done. (0.211s)\n",
            "image 40/250 /content/drive/MyDrive/hard_hat_detection/Images/hard_hat_workers1796.png: 416x416 2 helmets, Done. (0.200s)\n",
            "image 41/250 /content/drive/MyDrive/hard_hat_detection/Images/hard_hat_workers182.png: 416x416 3 helmets, Done. (0.211s)\n",
            "image 42/250 /content/drive/MyDrive/hard_hat_detection/Images/hard_hat_workers1832.png: 416x416 4 helmets, Done. (0.207s)\n",
            "image 43/250 /content/drive/MyDrive/hard_hat_detection/Images/hard_hat_workers184.png: 416x416 1 helmet, Done. (0.206s)\n",
            "image 44/250 /content/drive/MyDrive/hard_hat_detection/Images/hard_hat_workers1848.png: 416x416 1 helmet, Done. (0.202s)\n",
            "image 45/250 /content/drive/MyDrive/hard_hat_detection/Images/hard_hat_workers1854.png: 416x416 2 helmets, Done. (0.215s)\n",
            "image 46/250 /content/drive/MyDrive/hard_hat_detection/Images/hard_hat_workers1866.png: 416x416 1 helmet, Done. (0.206s)\n",
            "image 47/250 /content/drive/MyDrive/hard_hat_detection/Images/hard_hat_workers1877.png: 416x416 4 helmets, Done. (0.213s)\n",
            "image 48/250 /content/drive/MyDrive/hard_hat_detection/Images/hard_hat_workers1885.png: 416x416 6 helmets, Done. (0.213s)\n",
            "image 49/250 /content/drive/MyDrive/hard_hat_detection/Images/hard_hat_workers1918.png: 416x416 4 helmets, Done. (0.199s)\n",
            "image 50/250 /content/drive/MyDrive/hard_hat_detection/Images/hard_hat_workers192.png: 416x416 7 helmets, Done. (0.212s)\n",
            "image 51/250 /content/drive/MyDrive/hard_hat_detection/Images/hard_hat_workers1952.png: 416x416 6 helmets, Done. (0.208s)\n",
            "image 52/250 /content/drive/MyDrive/hard_hat_detection/Images/hard_hat_workers1961.png: 416x416 3 helmets, Done. (0.208s)\n",
            "image 53/250 /content/drive/MyDrive/hard_hat_detection/Images/hard_hat_workers1982.png: 416x416 2 helmets, Done. (0.203s)\n",
            "image 54/250 /content/drive/MyDrive/hard_hat_detection/Images/hard_hat_workers2003.png: 416x416 1 head, 1 helmet, Done. (0.214s)\n",
            "image 55/250 /content/drive/MyDrive/hard_hat_detection/Images/hard_hat_workers2019.png: 416x416 4 helmets, Done. (0.203s)\n",
            "image 56/250 /content/drive/MyDrive/hard_hat_detection/Images/hard_hat_workers2062.png: 416x416 2 helmets, Done. (0.203s)\n",
            "image 57/250 /content/drive/MyDrive/hard_hat_detection/Images/hard_hat_workers2063.png: 416x416 4 helmets, Done. (0.203s)\n",
            "image 58/250 /content/drive/MyDrive/hard_hat_detection/Images/hard_hat_workers2070.png: 416x416 2 helmets, Done. (0.197s)\n",
            "image 59/250 /content/drive/MyDrive/hard_hat_detection/Images/hard_hat_workers2075.png: 416x416 2 helmets, Done. (0.215s)\n",
            "image 60/250 /content/drive/MyDrive/hard_hat_detection/Images/hard_hat_workers2093.png: 416x416 6 helmets, Done. (0.211s)\n",
            "image 61/250 /content/drive/MyDrive/hard_hat_detection/Images/hard_hat_workers210.png: 416x416 10 helmets, Done. (0.222s)\n",
            "image 62/250 /content/drive/MyDrive/hard_hat_detection/Images/hard_hat_workers2113.png: 416x416 9 heads, Done. (0.203s)\n",
            "image 63/250 /content/drive/MyDrive/hard_hat_detection/Images/hard_hat_workers2123.png: 416x416 3 helmets, Done. (0.219s)\n",
            "image 64/250 /content/drive/MyDrive/hard_hat_detection/Images/hard_hat_workers2131.png: 416x416 4 helmets, Done. (0.207s)\n",
            "image 65/250 /content/drive/MyDrive/hard_hat_detection/Images/hard_hat_workers2171.png: 416x416 6 heads, 1 helmet, Done. (0.206s)\n",
            "image 66/250 /content/drive/MyDrive/hard_hat_detection/Images/hard_hat_workers2200.png: 416x416 7 helmets, Done. (0.207s)\n",
            "image 67/250 /content/drive/MyDrive/hard_hat_detection/Images/hard_hat_workers221.png: 416x416 2 helmets, Done. (0.208s)\n",
            "image 68/250 /content/drive/MyDrive/hard_hat_detection/Images/hard_hat_workers223.png: 416x416 1 helmet, Done. (0.201s)\n",
            "image 69/250 /content/drive/MyDrive/hard_hat_detection/Images/hard_hat_workers2244.png: 416x416 8 helmets, Done. (0.209s)\n",
            "image 70/250 /content/drive/MyDrive/hard_hat_detection/Images/hard_hat_workers2274.png: 416x416 9 heads, Done. (0.206s)\n",
            "image 71/250 /content/drive/MyDrive/hard_hat_detection/Images/hard_hat_workers2289.png: 416x416 23 heads, 2 helmets, Done. (0.201s)\n",
            "image 72/250 /content/drive/MyDrive/hard_hat_detection/Images/hard_hat_workers2295.png: 416x416 1 helmet, Done. (0.215s)\n",
            "image 73/250 /content/drive/MyDrive/hard_hat_detection/Images/hard_hat_workers2309.png: 416x416 1 helmet, Done. (0.208s)\n",
            "image 74/250 /content/drive/MyDrive/hard_hat_detection/Images/hard_hat_workers2332.png: 416x416 2 helmets, Done. (0.210s)\n",
            "image 75/250 /content/drive/MyDrive/hard_hat_detection/Images/hard_hat_workers2340.png: 416x416 9 helmets, Done. (0.200s)\n",
            "image 76/250 /content/drive/MyDrive/hard_hat_detection/Images/hard_hat_workers2363.png: 416x416 13 helmets, Done. (0.219s)\n",
            "image 77/250 /content/drive/MyDrive/hard_hat_detection/Images/hard_hat_workers2365.png: 416x416 1 head, Done. (0.202s)\n",
            "image 78/250 /content/drive/MyDrive/hard_hat_detection/Images/hard_hat_workers237.png: 416x416 Done. (0.207s)\n",
            "image 79/250 /content/drive/MyDrive/hard_hat_detection/Images/hard_hat_workers238.png: 416x416 1 helmet, Done. (0.204s)\n",
            "image 80/250 /content/drive/MyDrive/hard_hat_detection/Images/hard_hat_workers2408.png: 416x416 5 helmets, Done. (0.215s)\n",
            "image 81/250 /content/drive/MyDrive/hard_hat_detection/Images/hard_hat_workers2441.png: 416x416 3 helmets, Done. (0.207s)\n",
            "image 82/250 /content/drive/MyDrive/hard_hat_detection/Images/hard_hat_workers2454.png: 416x416 9 helmets, Done. (0.200s)\n",
            "image 83/250 /content/drive/MyDrive/hard_hat_detection/Images/hard_hat_workers246.png: 416x416 3 helmets, Done. (0.213s)\n",
            "image 84/250 /content/drive/MyDrive/hard_hat_detection/Images/hard_hat_workers2496.png: 416x416 4 heads, 10 helmets, Done. (0.205s)\n",
            "image 85/250 /content/drive/MyDrive/hard_hat_detection/Images/hard_hat_workers2545.png: 416x416 1 helmet, Done. (0.217s)\n",
            "image 86/250 /content/drive/MyDrive/hard_hat_detection/Images/hard_hat_workers2547.png: 416x416 2 helmets, Done. (0.205s)\n",
            "image 87/250 /content/drive/MyDrive/hard_hat_detection/Images/hard_hat_workers2554.png: 416x416 7 helmets, Done. (0.208s)\n",
            "image 88/250 /content/drive/MyDrive/hard_hat_detection/Images/hard_hat_workers261.png: 416x416 1 helmet, Done. (0.205s)\n",
            "image 89/250 /content/drive/MyDrive/hard_hat_detection/Images/hard_hat_workers2617.png: 416x416 3 helmets, Done. (0.213s)\n",
            "image 90/250 /content/drive/MyDrive/hard_hat_detection/Images/hard_hat_workers2701.png: 416x416 11 heads, Done. (0.205s)\n",
            "image 91/250 /content/drive/MyDrive/hard_hat_detection/Images/hard_hat_workers2705.png: 416x416 5 helmets, Done. (0.207s)\n",
            "image 92/250 /content/drive/MyDrive/hard_hat_detection/Images/hard_hat_workers2707.png: 416x416 9 helmets, Done. (0.211s)\n",
            "image 93/250 /content/drive/MyDrive/hard_hat_detection/Images/hard_hat_workers2713.png: 416x416 1 helmet, Done. (0.201s)\n",
            "image 94/250 /content/drive/MyDrive/hard_hat_detection/Images/hard_hat_workers2716.png: 416x416 1 helmet, Done. (0.207s)\n",
            "image 95/250 /content/drive/MyDrive/hard_hat_detection/Images/hard_hat_workers2728.png: 416x416 5 helmets, Done. (0.202s)\n",
            "image 96/250 /content/drive/MyDrive/hard_hat_detection/Images/hard_hat_workers273.png: 416x416 2 helmets, Done. (0.204s)\n",
            "image 97/250 /content/drive/MyDrive/hard_hat_detection/Images/hard_hat_workers2786.png: 416x416 4 heads, 2 helmets, Done. (0.201s)\n",
            "image 98/250 /content/drive/MyDrive/hard_hat_detection/Images/hard_hat_workers2794.png: 416x416 5 helmets, Done. (0.215s)\n",
            "image 99/250 /content/drive/MyDrive/hard_hat_detection/Images/hard_hat_workers2803.png: 416x416 2 helmets, Done. (0.202s)\n",
            "image 100/250 /content/drive/MyDrive/hard_hat_detection/Images/hard_hat_workers2818.png: 416x416 Done. (0.204s)\n",
            "image 101/250 /content/drive/MyDrive/hard_hat_detection/Images/hard_hat_workers2824.png: 416x416 Done. (0.201s)\n",
            "image 102/250 /content/drive/MyDrive/hard_hat_detection/Images/hard_hat_workers2880.png: 416x416 8 helmets, Done. (0.209s)\n",
            "image 103/250 /content/drive/MyDrive/hard_hat_detection/Images/hard_hat_workers2889.png: 416x416 1 helmet, Done. (0.214s)\n",
            "image 104/250 /content/drive/MyDrive/hard_hat_detection/Images/hard_hat_workers2897.png: 416x416 2 helmets, Done. (0.207s)\n",
            "image 105/250 /content/drive/MyDrive/hard_hat_detection/Images/hard_hat_workers2899.png: 416x416 10 helmets, Done. (0.201s)\n",
            "image 106/250 /content/drive/MyDrive/hard_hat_detection/Images/hard_hat_workers292.png: 416x416 3 helmets, Done. (0.219s)\n",
            "image 107/250 /content/drive/MyDrive/hard_hat_detection/Images/hard_hat_workers2942.png: 416x416 1 helmet, Done. (0.217s)\n",
            "image 108/250 /content/drive/MyDrive/hard_hat_detection/Images/hard_hat_workers2950.png: 416x416 1 helmet, Done. (0.208s)\n",
            "image 109/250 /content/drive/MyDrive/hard_hat_detection/Images/hard_hat_workers2961.png: 416x416 5 helmets, Done. (0.204s)\n",
            "image 110/250 /content/drive/MyDrive/hard_hat_detection/Images/hard_hat_workers2983.png: 416x416 5 helmets, Done. (0.206s)\n",
            "image 111/250 /content/drive/MyDrive/hard_hat_detection/Images/hard_hat_workers2985.png: 416x416 7 helmets, Done. (0.214s)\n",
            "image 112/250 /content/drive/MyDrive/hard_hat_detection/Images/hard_hat_workers2998.png: 416x416 3 helmets, Done. (0.205s)\n",
            "image 113/250 /content/drive/MyDrive/hard_hat_detection/Images/hard_hat_workers3011.png: 416x416 10 helmets, Done. (0.199s)\n",
            "image 114/250 /content/drive/MyDrive/hard_hat_detection/Images/hard_hat_workers302.png: 416x416 4 heads, Done. (0.203s)\n",
            "image 115/250 /content/drive/MyDrive/hard_hat_detection/Images/hard_hat_workers3030.png: 416x416 2 helmets, Done. (0.217s)\n",
            "image 116/250 /content/drive/MyDrive/hard_hat_detection/Images/hard_hat_workers3034.png: 416x416 2 helmets, Done. (0.208s)\n",
            "image 117/250 /content/drive/MyDrive/hard_hat_detection/Images/hard_hat_workers3044.png: 416x416 4 helmets, Done. (0.204s)\n",
            "image 118/250 /content/drive/MyDrive/hard_hat_detection/Images/hard_hat_workers306.png: 416x416 20 heads, Done. (0.203s)\n",
            "image 119/250 /content/drive/MyDrive/hard_hat_detection/Images/hard_hat_workers3076.png: 416x416 2 helmets, Done. (0.209s)\n",
            "image 120/250 /content/drive/MyDrive/hard_hat_detection/Images/hard_hat_workers3174.png: 416x416 2 helmets, Done. (0.210s)\n",
            "image 121/250 /content/drive/MyDrive/hard_hat_detection/Images/hard_hat_workers3180.png: 416x416 5 helmets, Done. (0.205s)\n",
            "image 122/250 /content/drive/MyDrive/hard_hat_detection/Images/hard_hat_workers3187.png: 416x416 2 helmets, Done. (0.201s)\n",
            "image 123/250 /content/drive/MyDrive/hard_hat_detection/Images/hard_hat_workers3221.png: 416x416 3 helmets, Done. (0.197s)\n",
            "image 124/250 /content/drive/MyDrive/hard_hat_detection/Images/hard_hat_workers3254.png: 416x416 1 head, 4 helmets, Done. (0.300s)\n",
            "image 125/250 /content/drive/MyDrive/hard_hat_detection/Images/hard_hat_workers3262.png: 416x416 5 helmets, Done. (0.203s)\n",
            "image 126/250 /content/drive/MyDrive/hard_hat_detection/Images/hard_hat_workers329.png: 416x416 8 helmets, Done. (0.208s)\n",
            "image 127/250 /content/drive/MyDrive/hard_hat_detection/Images/hard_hat_workers3291.png: 416x416 1 helmet, Done. (0.249s)\n",
            "image 128/250 /content/drive/MyDrive/hard_hat_detection/Images/hard_hat_workers3301.png: 416x416 1 helmet, Done. (0.215s)\n",
            "image 129/250 /content/drive/MyDrive/hard_hat_detection/Images/hard_hat_workers3314.png: 416x416 3 heads, Done. (0.203s)\n",
            "image 130/250 /content/drive/MyDrive/hard_hat_detection/Images/hard_hat_workers3320.png: 416x416 2 helmets, Done. (0.250s)\n",
            "image 131/250 /content/drive/MyDrive/hard_hat_detection/Images/hard_hat_workers3325.png: 416x416 2 helmets, Done. (0.206s)\n",
            "image 132/250 /content/drive/MyDrive/hard_hat_detection/Images/hard_hat_workers3352.png: 416x416 7 helmets, Done. (0.215s)\n",
            "image 133/250 /content/drive/MyDrive/hard_hat_detection/Images/hard_hat_workers3366.png: 416x416 2 helmets, Done. (0.205s)\n",
            "image 134/250 /content/drive/MyDrive/hard_hat_detection/Images/hard_hat_workers3383.png: 416x416 4 heads, 4 helmets, Done. (0.205s)\n",
            "image 135/250 /content/drive/MyDrive/hard_hat_detection/Images/hard_hat_workers34.png: 416x416 7 helmets, Done. (0.203s)\n",
            "image 136/250 /content/drive/MyDrive/hard_hat_detection/Images/hard_hat_workers341.png: 416x416 1 helmet, Done. (0.208s)\n",
            "image 137/250 /content/drive/MyDrive/hard_hat_detection/Images/hard_hat_workers3421.png: 416x416 Done. (0.211s)\n",
            "image 138/250 /content/drive/MyDrive/hard_hat_detection/Images/hard_hat_workers3446.png: 416x416 2 helmets, Done. (0.205s)\n",
            "image 139/250 /content/drive/MyDrive/hard_hat_detection/Images/hard_hat_workers3489.png: 416x416 2 heads, 5 helmets, Done. (0.207s)\n",
            "image 140/250 /content/drive/MyDrive/hard_hat_detection/Images/hard_hat_workers3495.png: 416x416 2 helmets, Done. (0.203s)\n",
            "image 141/250 /content/drive/MyDrive/hard_hat_detection/Images/hard_hat_workers3503.png: 416x416 13 helmets, Done. (0.214s)\n",
            "image 142/250 /content/drive/MyDrive/hard_hat_detection/Images/hard_hat_workers3508.png: 416x416 2 helmets, Done. (0.208s)\n",
            "image 143/250 /content/drive/MyDrive/hard_hat_detection/Images/hard_hat_workers3517.png: 416x416 12 heads, Done. (0.204s)\n",
            "image 144/250 /content/drive/MyDrive/hard_hat_detection/Images/hard_hat_workers3528.png: 416x416 1 helmet, Done. (0.207s)\n",
            "image 145/250 /content/drive/MyDrive/hard_hat_detection/Images/hard_hat_workers3554.png: 416x416 14 helmets, Done. (0.203s)\n",
            "image 146/250 /content/drive/MyDrive/hard_hat_detection/Images/hard_hat_workers3558.png: 416x416 2 helmets, Done. (0.207s)\n",
            "image 147/250 /content/drive/MyDrive/hard_hat_detection/Images/hard_hat_workers3578.png: 416x416 Done. (0.204s)\n",
            "image 148/250 /content/drive/MyDrive/hard_hat_detection/Images/hard_hat_workers3615.png: 416x416 7 helmets, Done. (0.210s)\n",
            "image 149/250 /content/drive/MyDrive/hard_hat_detection/Images/hard_hat_workers3641.png: 416x416 2 helmets, Done. (0.207s)\n",
            "image 150/250 /content/drive/MyDrive/hard_hat_detection/Images/hard_hat_workers3654.png: 416x416 1 helmet, Done. (0.228s)\n",
            "image 151/250 /content/drive/MyDrive/hard_hat_detection/Images/hard_hat_workers3664.png: 416x416 1 helmet, 1 person, Done. (0.216s)\n",
            "image 152/250 /content/drive/MyDrive/hard_hat_detection/Images/hard_hat_workers3692.png: 416x416 3 helmets, Done. (0.201s)\n",
            "image 153/250 /content/drive/MyDrive/hard_hat_detection/Images/hard_hat_workers3695.png: 416x416 6 helmets, Done. (0.209s)\n",
            "image 154/250 /content/drive/MyDrive/hard_hat_detection/Images/hard_hat_workers3724.png: 416x416 4 helmets, Done. (0.213s)\n",
            "image 155/250 /content/drive/MyDrive/hard_hat_detection/Images/hard_hat_workers3739.png: 416x416 13 heads, 8 helmets, Done. (0.203s)\n",
            "image 156/250 /content/drive/MyDrive/hard_hat_detection/Images/hard_hat_workers3868.png: 416x416 5 helmets, Done. (0.202s)\n",
            "image 157/250 /content/drive/MyDrive/hard_hat_detection/Images/hard_hat_workers3890.png: 416x416 3 helmets, Done. (0.208s)\n",
            "image 158/250 /content/drive/MyDrive/hard_hat_detection/Images/hard_hat_workers3894.png: 416x416 16 heads, 2 helmets, Done. (0.211s)\n",
            "image 159/250 /content/drive/MyDrive/hard_hat_detection/Images/hard_hat_workers3903.png: 416x416 5 helmets, Done. (0.219s)\n",
            "image 160/250 /content/drive/MyDrive/hard_hat_detection/Images/hard_hat_workers3908.png: 416x416 2 helmets, Done. (0.206s)\n",
            "image 161/250 /content/drive/MyDrive/hard_hat_detection/Images/hard_hat_workers3923.png: 416x416 6 heads, Done. (0.213s)\n",
            "image 162/250 /content/drive/MyDrive/hard_hat_detection/Images/hard_hat_workers3932.png: 416x416 8 heads, Done. (0.209s)\n",
            "image 163/250 /content/drive/MyDrive/hard_hat_detection/Images/hard_hat_workers4052.png: 416x416 4 helmets, Done. (0.221s)\n",
            "image 164/250 /content/drive/MyDrive/hard_hat_detection/Images/hard_hat_workers4062.png: 416x416 3 helmets, Done. (0.202s)\n",
            "image 165/250 /content/drive/MyDrive/hard_hat_detection/Images/hard_hat_workers4063.png: 416x416 2 helmets, Done. (0.200s)\n",
            "image 166/250 /content/drive/MyDrive/hard_hat_detection/Images/hard_hat_workers4073.png: 416x416 7 helmets, Done. (0.210s)\n",
            "image 167/250 /content/drive/MyDrive/hard_hat_detection/Images/hard_hat_workers4082.png: 416x416 1 helmet, Done. (0.210s)\n",
            "image 168/250 /content/drive/MyDrive/hard_hat_detection/Images/hard_hat_workers410.png: 416x416 2 helmets, Done. (0.204s)\n",
            "image 169/250 /content/drive/MyDrive/hard_hat_detection/Images/hard_hat_workers412.png: 416x416 5 helmets, Done. (0.202s)\n",
            "image 170/250 /content/drive/MyDrive/hard_hat_detection/Images/hard_hat_workers4130.png: 416x416 2 heads, 5 helmets, Done. (0.206s)\n",
            "image 171/250 /content/drive/MyDrive/hard_hat_detection/Images/hard_hat_workers4133.png: 416x416 1 helmet, Done. (0.203s)\n",
            "image 172/250 /content/drive/MyDrive/hard_hat_detection/Images/hard_hat_workers4137.png: 416x416 1 helmet, Done. (0.217s)\n",
            "image 173/250 /content/drive/MyDrive/hard_hat_detection/Images/hard_hat_workers415.png: 416x416 2 helmets, Done. (0.209s)\n",
            "image 174/250 /content/drive/MyDrive/hard_hat_detection/Images/hard_hat_workers4238.png: 416x416 2 helmets, Done. (0.213s)\n",
            "image 175/250 /content/drive/MyDrive/hard_hat_detection/Images/hard_hat_workers4248.png: 416x416 7 helmets, Done. (0.211s)\n",
            "image 176/250 /content/drive/MyDrive/hard_hat_detection/Images/hard_hat_workers4275.png: 416x416 1 helmet, Done. (0.217s)\n",
            "image 177/250 /content/drive/MyDrive/hard_hat_detection/Images/hard_hat_workers4281.png: 416x416 4 helmets, Done. (0.206s)\n",
            "image 178/250 /content/drive/MyDrive/hard_hat_detection/Images/hard_hat_workers43.png: 416x416 2 heads, 5 helmets, Done. (0.210s)\n",
            "image 179/250 /content/drive/MyDrive/hard_hat_detection/Images/hard_hat_workers4331.png: 416x416 7 helmets, Done. (0.211s)\n",
            "image 180/250 /content/drive/MyDrive/hard_hat_detection/Images/hard_hat_workers4355.png: 416x416 4 helmets, Done. (0.210s)\n",
            "image 181/250 /content/drive/MyDrive/hard_hat_detection/Images/hard_hat_workers4370.png: 416x416 2 helmets, Done. (0.211s)\n",
            "image 182/250 /content/drive/MyDrive/hard_hat_detection/Images/hard_hat_workers438.png: 416x416 2 helmets, Done. (0.216s)\n",
            "image 183/250 /content/drive/MyDrive/hard_hat_detection/Images/hard_hat_workers4410.png: 416x416 6 helmets, Done. (0.203s)\n",
            "image 184/250 /content/drive/MyDrive/hard_hat_detection/Images/hard_hat_workers4411.png: 416x416 1 helmet, Done. (0.212s)\n",
            "image 185/250 /content/drive/MyDrive/hard_hat_detection/Images/hard_hat_workers4417.png: 416x416 1 helmet, Done. (0.208s)\n",
            "image 186/250 /content/drive/MyDrive/hard_hat_detection/Images/hard_hat_workers4453.png: 416x416 4 helmets, Done. (0.208s)\n",
            "image 187/250 /content/drive/MyDrive/hard_hat_detection/Images/hard_hat_workers4504.png: 416x416 1 helmet, Done. (0.214s)\n",
            "image 188/250 /content/drive/MyDrive/hard_hat_detection/Images/hard_hat_workers452.png: 416x416 2 helmets, Done. (0.204s)\n",
            "image 189/250 /content/drive/MyDrive/hard_hat_detection/Images/hard_hat_workers4544.png: 416x416 2 helmets, Done. (0.217s)\n",
            "image 190/250 /content/drive/MyDrive/hard_hat_detection/Images/hard_hat_workers4547.png: 416x416 2 helmets, Done. (0.203s)\n",
            "image 191/250 /content/drive/MyDrive/hard_hat_detection/Images/hard_hat_workers4549.png: 416x416 3 helmets, Done. (0.208s)\n",
            "image 192/250 /content/drive/MyDrive/hard_hat_detection/Images/hard_hat_workers4588.png: 416x416 6 helmets, Done. (0.216s)\n",
            "image 193/250 /content/drive/MyDrive/hard_hat_detection/Images/hard_hat_workers4591.png: 416x416 1 helmet, Done. (0.224s)\n",
            "image 194/250 /content/drive/MyDrive/hard_hat_detection/Images/hard_hat_workers4603.png: 416x416 9 helmets, Done. (0.216s)\n",
            "image 195/250 /content/drive/MyDrive/hard_hat_detection/Images/hard_hat_workers4625.png: 416x416 9 heads, Done. (0.220s)\n",
            "image 196/250 /content/drive/MyDrive/hard_hat_detection/Images/hard_hat_workers4714.png: 416x416 10 heads, 1 helmet, Done. (0.217s)\n",
            "image 197/250 /content/drive/MyDrive/hard_hat_detection/Images/hard_hat_workers4753.png: 416x416 6 heads, 1 helmet, Done. (0.207s)\n",
            "image 198/250 /content/drive/MyDrive/hard_hat_detection/Images/hard_hat_workers4770.png: 416x416 2 heads, 5 helmets, Done. (0.213s)\n",
            "image 199/250 /content/drive/MyDrive/hard_hat_detection/Images/hard_hat_workers4776.png: 416x416 4 helmets, Done. (0.203s)\n",
            "image 200/250 /content/drive/MyDrive/hard_hat_detection/Images/hard_hat_workers4786.png: 416x416 15 helmets, Done. (0.211s)\n",
            "image 201/250 /content/drive/MyDrive/hard_hat_detection/Images/hard_hat_workers4787.png: 416x416 7 heads, Done. (0.214s)\n",
            "image 202/250 /content/drive/MyDrive/hard_hat_detection/Images/hard_hat_workers4789.png: 416x416 2 helmets, Done. (0.215s)\n",
            "image 203/250 /content/drive/MyDrive/hard_hat_detection/Images/hard_hat_workers4797.png: 416x416 17 heads, Done. (0.202s)\n",
            "image 204/250 /content/drive/MyDrive/hard_hat_detection/Images/hard_hat_workers4833.png: 416x416 2 helmets, Done. (0.217s)\n",
            "image 205/250 /content/drive/MyDrive/hard_hat_detection/Images/hard_hat_workers4840.png: 416x416 2 helmets, Done. (0.210s)\n",
            "image 206/250 /content/drive/MyDrive/hard_hat_detection/Images/hard_hat_workers4851.png: 416x416 2 helmets, Done. (0.211s)\n",
            "image 207/250 /content/drive/MyDrive/hard_hat_detection/Images/hard_hat_workers4905.png: 416x416 5 heads, Done. (0.208s)\n",
            "image 208/250 /content/drive/MyDrive/hard_hat_detection/Images/hard_hat_workers4906.png: 416x416 1 helmet, Done. (0.211s)\n",
            "image 209/250 /content/drive/MyDrive/hard_hat_detection/Images/hard_hat_workers4944.png: 416x416 1 helmet, Done. (0.200s)\n",
            "image 210/250 /content/drive/MyDrive/hard_hat_detection/Images/hard_hat_workers4964.png: 416x416 5 helmets, Done. (0.208s)\n",
            "image 211/250 /content/drive/MyDrive/hard_hat_detection/Images/hard_hat_workers4968.png: 416x416 10 helmets, Done. (0.216s)\n",
            "image 212/250 /content/drive/MyDrive/hard_hat_detection/Images/hard_hat_workers4969.png: 416x416 3 heads, Done. (0.207s)\n",
            "image 213/250 /content/drive/MyDrive/hard_hat_detection/Images/hard_hat_workers4996.png: 416x416 1 helmet, Done. (0.204s)\n",
            "image 214/250 /content/drive/MyDrive/hard_hat_detection/Images/hard_hat_workers509.png: 416x416 7 helmets, Done. (0.210s)\n",
            "image 215/250 /content/drive/MyDrive/hard_hat_detection/Images/hard_hat_workers543.png: 416x416 2 helmets, Done. (0.211s)\n",
            "image 216/250 /content/drive/MyDrive/hard_hat_detection/Images/hard_hat_workers56.png: 416x416 2 helmets, Done. (0.213s)\n",
            "image 217/250 /content/drive/MyDrive/hard_hat_detection/Images/hard_hat_workers579.png: 416x416 7 heads, Done. (0.210s)\n",
            "image 218/250 /content/drive/MyDrive/hard_hat_detection/Images/hard_hat_workers581.png: 416x416 2 helmets, Done. (0.203s)\n",
            "image 219/250 /content/drive/MyDrive/hard_hat_detection/Images/hard_hat_workers588.png: 416x416 1 helmet, Done. (0.224s)\n",
            "image 220/250 /content/drive/MyDrive/hard_hat_detection/Images/hard_hat_workers619.png: 416x416 3 helmets, Done. (0.203s)\n",
            "image 221/250 /content/drive/MyDrive/hard_hat_detection/Images/hard_hat_workers623.png: 416x416 1 helmet, Done. (0.205s)\n",
            "image 222/250 /content/drive/MyDrive/hard_hat_detection/Images/hard_hat_workers630.png: 416x416 1 helmet, Done. (0.210s)\n",
            "image 223/250 /content/drive/MyDrive/hard_hat_detection/Images/hard_hat_workers635.png: 416x416 3 helmets, Done. (0.206s)\n",
            "image 224/250 /content/drive/MyDrive/hard_hat_detection/Images/hard_hat_workers641.png: 416x416 1 helmet, Done. (0.244s)\n",
            "image 225/250 /content/drive/MyDrive/hard_hat_detection/Images/hard_hat_workers651.png: 416x416 3 helmets, Done. (0.228s)\n",
            "image 226/250 /content/drive/MyDrive/hard_hat_detection/Images/hard_hat_workers663.png: 416x416 4 helmets, Done. (0.214s)\n",
            "image 227/250 /content/drive/MyDrive/hard_hat_detection/Images/hard_hat_workers710.png: 416x416 9 helmets, Done. (0.226s)\n",
            "image 228/250 /content/drive/MyDrive/hard_hat_detection/Images/hard_hat_workers738.png: 416x416 2 helmets, Done. (0.215s)\n",
            "image 229/250 /content/drive/MyDrive/hard_hat_detection/Images/hard_hat_workers746.png: 416x416 1 helmet, Done. (0.207s)\n",
            "image 230/250 /content/drive/MyDrive/hard_hat_detection/Images/hard_hat_workers750.png: 416x416 11 helmets, Done. (0.210s)\n",
            "image 231/250 /content/drive/MyDrive/hard_hat_detection/Images/hard_hat_workers764.png: 416x416 3 helmets, Done. (0.201s)\n",
            "image 232/250 /content/drive/MyDrive/hard_hat_detection/Images/hard_hat_workers796.png: 416x416 4 helmets, Done. (0.213s)\n",
            "image 233/250 /content/drive/MyDrive/hard_hat_detection/Images/hard_hat_workers805.png: 416x416 4 helmets, Done. (0.208s)\n",
            "image 234/250 /content/drive/MyDrive/hard_hat_detection/Images/hard_hat_workers832.png: 416x416 6 helmets, Done. (0.202s)\n",
            "image 235/250 /content/drive/MyDrive/hard_hat_detection/Images/hard_hat_workers834.png: 416x416 5 helmets, Done. (0.208s)\n",
            "image 236/250 /content/drive/MyDrive/hard_hat_detection/Images/hard_hat_workers841.png: 416x416 9 heads, Done. (0.212s)\n",
            "image 237/250 /content/drive/MyDrive/hard_hat_detection/Images/hard_hat_workers854.png: 416x416 5 helmets, Done. (0.220s)\n",
            "image 238/250 /content/drive/MyDrive/hard_hat_detection/Images/hard_hat_workers870.png: 416x416 2 helmets, Done. (0.213s)\n",
            "image 239/250 /content/drive/MyDrive/hard_hat_detection/Images/hard_hat_workers873.png: 416x416 2 helmets, Done. (0.230s)\n",
            "image 240/250 /content/drive/MyDrive/hard_hat_detection/Images/hard_hat_workers889.png: 416x416 3 helmets, Done. (0.206s)\n",
            "image 241/250 /content/drive/MyDrive/hard_hat_detection/Images/hard_hat_workers895.png: 416x416 4 heads, 3 helmets, Done. (0.217s)\n",
            "image 242/250 /content/drive/MyDrive/hard_hat_detection/Images/hard_hat_workers902.png: 416x416 4 helmets, Done. (0.209s)\n",
            "image 243/250 /content/drive/MyDrive/hard_hat_detection/Images/hard_hat_workers91.png: 416x416 6 helmets, Done. (0.204s)\n",
            "image 244/250 /content/drive/MyDrive/hard_hat_detection/Images/hard_hat_workers925.png: 416x416 1 head, 3 helmets, Done. (0.212s)\n",
            "image 245/250 /content/drive/MyDrive/hard_hat_detection/Images/hard_hat_workers930.png: 416x416 2 helmets, Done. (0.222s)\n",
            "image 246/250 /content/drive/MyDrive/hard_hat_detection/Images/hard_hat_workers952.png: 416x416 2 helmets, Done. (0.209s)\n",
            "image 247/250 /content/drive/MyDrive/hard_hat_detection/Images/hard_hat_workers961.png: 416x416 8 helmets, Done. (0.217s)\n",
            "image 248/250 /content/drive/MyDrive/hard_hat_detection/Images/hard_hat_workers968.png: 416x416 4 helmets, Done. (0.205s)\n",
            "image 249/250 /content/drive/MyDrive/hard_hat_detection/Images/hard_hat_workers986.png: 416x416 2 helmets, Done. (0.211s)\n",
            "image 250/250 /content/drive/MyDrive/hard_hat_detection/Images/hard_hat_workers99.png: 416x416 1 helmet, Done. (0.216s)\n",
            "Results saved to runs/detect/exp\n",
            "Done. (61.351s)\n"
          ]
        }
      ],
      "source": [
        "!python detect.py --weights /content/drive/MyDrive/hard_hat_detection/best.pt --img 416 --conf 0.4 --source /content/drive/MyDrive/hard_hat_detection/Images"
      ]
    }
  ]
}