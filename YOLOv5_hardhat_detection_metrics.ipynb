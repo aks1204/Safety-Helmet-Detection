{
  "nbformat": 4,
  "nbformat_minor": 0,
  "metadata": {
    "colab": {
      "name": "YOLOv5_hardhat_detection_metrics.ipynb",
      "provenance": []
    },
    "kernelspec": {
      "name": "python3",
      "display_name": "Python 3"
    },
    "language_info": {
      "name": "python"
    },
    "accelerator": "GPU"
  },
  "cells": [
    {
      "cell_type": "code",
      "source": [
        "from google.colab import drive\n",
        "drive.mount('/content/drive')"
      ],
      "metadata": {
        "colab": {
          "base_uri": "https://localhost:8080/"
        },
        "id": "_SkPdF_6NLp6",
        "outputId": "13665ac1-fe1e-47d7-c78e-50b763bbbe1a"
      },
      "execution_count": null,
      "outputs": [
        {
          "output_type": "stream",
          "name": "stdout",
          "text": [
            "Mounted at /content/drive\n"
          ]
        }
      ]
    },
    {
      "cell_type": "code",
      "source": [
        "!git clone https://github.com/ultralytics/yolov5 "
      ],
      "metadata": {
        "colab": {
          "base_uri": "https://localhost:8080/"
        },
        "id": "ed1XZ0ZROVwn",
        "outputId": "b278542e-9ace-416a-ddf9-546351c92f5d"
      },
      "execution_count": null,
      "outputs": [
        {
          "output_type": "stream",
          "name": "stdout",
          "text": [
            "Cloning into 'yolov5'...\n",
            "remote: Enumerating objects: 12789, done.\u001b[K\n",
            "remote: Total 12789 (delta 0), reused 0 (delta 0), pack-reused 12789\u001b[K\n",
            "Receiving objects: 100% (12789/12789), 11.76 MiB | 25.15 MiB/s, done.\n",
            "Resolving deltas: 100% (8896/8896), done.\n"
          ]
        }
      ]
    },
    {
      "cell_type": "code",
      "source": [
        "%cd yolov5"
      ],
      "metadata": {
        "colab": {
          "base_uri": "https://localhost:8080/"
        },
        "id": "j0SdCiALOYH7",
        "outputId": "2d578ffd-31c6-4c46-a31f-0009629026aa"
      },
      "execution_count": null,
      "outputs": [
        {
          "output_type": "stream",
          "name": "stdout",
          "text": [
            "/content/yolov5\n"
          ]
        }
      ]
    },
    {
      "cell_type": "code",
      "source": [
        "!git reset --hard 886f1c03d839575afecb059accf74296fad395b6"
      ],
      "metadata": {
        "colab": {
          "base_uri": "https://localhost:8080/"
        },
        "id": "Rk60x9p4OaiK",
        "outputId": "5e2b268f-7a06-4d3f-929c-5033ce696ffd"
      },
      "execution_count": null,
      "outputs": [
        {
          "output_type": "stream",
          "name": "stdout",
          "text": [
            "HEAD is now at 886f1c0 DDP after autoanchor reorder (#2421)\n"
          ]
        }
      ]
    },
    {
      "cell_type": "code",
      "source": [
        "!pip install -qr requirements.txt"
      ],
      "metadata": {
        "colab": {
          "base_uri": "https://localhost:8080/"
        },
        "id": "rQ_UccvxOdLb",
        "outputId": "09e55688-f2d6-49e4-a803-60ced9cdffda"
      },
      "execution_count": null,
      "outputs": [
        {
          "output_type": "stream",
          "name": "stdout",
          "text": [
            "\u001b[?25l\r\u001b[K     |▌                               | 10 kB 20.0 MB/s eta 0:00:01\r\u001b[K     |█                               | 20 kB 11.3 MB/s eta 0:00:01\r\u001b[K     |█▋                              | 30 kB 9.3 MB/s eta 0:00:01\r\u001b[K     |██▏                             | 40 kB 8.6 MB/s eta 0:00:01\r\u001b[K     |██▊                             | 51 kB 4.7 MB/s eta 0:00:01\r\u001b[K     |███▎                            | 61 kB 5.5 MB/s eta 0:00:01\r\u001b[K     |███▉                            | 71 kB 5.8 MB/s eta 0:00:01\r\u001b[K     |████▍                           | 81 kB 4.3 MB/s eta 0:00:01\r\u001b[K     |█████                           | 92 kB 4.8 MB/s eta 0:00:01\r\u001b[K     |█████▌                          | 102 kB 5.3 MB/s eta 0:00:01\r\u001b[K     |██████                          | 112 kB 5.3 MB/s eta 0:00:01\r\u001b[K     |██████▋                         | 122 kB 5.3 MB/s eta 0:00:01\r\u001b[K     |███████▏                        | 133 kB 5.3 MB/s eta 0:00:01\r\u001b[K     |███████▊                        | 143 kB 5.3 MB/s eta 0:00:01\r\u001b[K     |████████▎                       | 153 kB 5.3 MB/s eta 0:00:01\r\u001b[K     |████████▉                       | 163 kB 5.3 MB/s eta 0:00:01\r\u001b[K     |█████████▍                      | 174 kB 5.3 MB/s eta 0:00:01\r\u001b[K     |██████████                      | 184 kB 5.3 MB/s eta 0:00:01\r\u001b[K     |██████████▍                     | 194 kB 5.3 MB/s eta 0:00:01\r\u001b[K     |███████████                     | 204 kB 5.3 MB/s eta 0:00:01\r\u001b[K     |███████████▌                    | 215 kB 5.3 MB/s eta 0:00:01\r\u001b[K     |████████████                    | 225 kB 5.3 MB/s eta 0:00:01\r\u001b[K     |████████████▋                   | 235 kB 5.3 MB/s eta 0:00:01\r\u001b[K     |█████████████▏                  | 245 kB 5.3 MB/s eta 0:00:01\r\u001b[K     |█████████████▊                  | 256 kB 5.3 MB/s eta 0:00:01\r\u001b[K     |██████████████▎                 | 266 kB 5.3 MB/s eta 0:00:01\r\u001b[K     |██████████████▉                 | 276 kB 5.3 MB/s eta 0:00:01\r\u001b[K     |███████████████▍                | 286 kB 5.3 MB/s eta 0:00:01\r\u001b[K     |████████████████                | 296 kB 5.3 MB/s eta 0:00:01\r\u001b[K     |████████████████▌               | 307 kB 5.3 MB/s eta 0:00:01\r\u001b[K     |█████████████████               | 317 kB 5.3 MB/s eta 0:00:01\r\u001b[K     |█████████████████▋              | 327 kB 5.3 MB/s eta 0:00:01\r\u001b[K     |██████████████████▏             | 337 kB 5.3 MB/s eta 0:00:01\r\u001b[K     |██████████████████▊             | 348 kB 5.3 MB/s eta 0:00:01\r\u001b[K     |███████████████████▎            | 358 kB 5.3 MB/s eta 0:00:01\r\u001b[K     |███████████████████▉            | 368 kB 5.3 MB/s eta 0:00:01\r\u001b[K     |████████████████████▍           | 378 kB 5.3 MB/s eta 0:00:01\r\u001b[K     |████████████████████▉           | 389 kB 5.3 MB/s eta 0:00:01\r\u001b[K     |█████████████████████▍          | 399 kB 5.3 MB/s eta 0:00:01\r\u001b[K     |██████████████████████          | 409 kB 5.3 MB/s eta 0:00:01\r\u001b[K     |██████████████████████▌         | 419 kB 5.3 MB/s eta 0:00:01\r\u001b[K     |███████████████████████         | 430 kB 5.3 MB/s eta 0:00:01\r\u001b[K     |███████████████████████▋        | 440 kB 5.3 MB/s eta 0:00:01\r\u001b[K     |████████████████████████▏       | 450 kB 5.3 MB/s eta 0:00:01\r\u001b[K     |████████████████████████▊       | 460 kB 5.3 MB/s eta 0:00:01\r\u001b[K     |█████████████████████████▎      | 471 kB 5.3 MB/s eta 0:00:01\r\u001b[K     |█████████████████████████▉      | 481 kB 5.3 MB/s eta 0:00:01\r\u001b[K     |██████████████████████████▍     | 491 kB 5.3 MB/s eta 0:00:01\r\u001b[K     |███████████████████████████     | 501 kB 5.3 MB/s eta 0:00:01\r\u001b[K     |███████████████████████████▌    | 512 kB 5.3 MB/s eta 0:00:01\r\u001b[K     |████████████████████████████    | 522 kB 5.3 MB/s eta 0:00:01\r\u001b[K     |████████████████████████████▋   | 532 kB 5.3 MB/s eta 0:00:01\r\u001b[K     |█████████████████████████████▏  | 542 kB 5.3 MB/s eta 0:00:01\r\u001b[K     |█████████████████████████████▊  | 552 kB 5.3 MB/s eta 0:00:01\r\u001b[K     |██████████████████████████████▎ | 563 kB 5.3 MB/s eta 0:00:01\r\u001b[K     |██████████████████████████████▊ | 573 kB 5.3 MB/s eta 0:00:01\r\u001b[K     |███████████████████████████████▎| 583 kB 5.3 MB/s eta 0:00:01\r\u001b[K     |███████████████████████████████▉| 593 kB 5.3 MB/s eta 0:00:01\r\u001b[K     |████████████████████████████████| 596 kB 5.3 MB/s \n",
            "\u001b[?25h"
          ]
        }
      ]
    },
    {
      "cell_type": "code",
      "source": [
        "import torch\n",
        "from IPython.display import Image, clear_output\n",
        "from utils.google_utils import gdrive_download"
      ],
      "metadata": {
        "id": "g2I0-DOJUfkB"
      },
      "execution_count": null,
      "outputs": []
    },
    {
      "cell_type": "code",
      "source": [
        "!pip install -q roboflow\n",
        "from roboflow import Roboflow\n",
        "rf = Roboflow(model_format=\"yolov5\", notebook=\"roboflow-yolov5\")"
      ],
      "metadata": {
        "colab": {
          "base_uri": "https://localhost:8080/"
        },
        "id": "VM1v0HBqUiW6",
        "outputId": "98fd19d2-6939-48e4-f092-d998d098aaa5"
      },
      "execution_count": null,
      "outputs": [
        {
          "output_type": "stream",
          "name": "stdout",
          "text": [
            "\u001b[?25l\r\u001b[K     |██▎                             | 10 kB 23.4 MB/s eta 0:00:01\r\u001b[K     |████▌                           | 20 kB 18.3 MB/s eta 0:00:01\r\u001b[K     |██████▊                         | 30 kB 10.6 MB/s eta 0:00:01\r\u001b[K     |█████████                       | 40 kB 4.5 MB/s eta 0:00:01\r\u001b[K     |███████████▎                    | 51 kB 4.6 MB/s eta 0:00:01\r\u001b[K     |█████████████▌                  | 61 kB 5.5 MB/s eta 0:00:01\r\u001b[K     |███████████████▊                | 71 kB 5.6 MB/s eta 0:00:01\r\u001b[K     |██████████████████              | 81 kB 6.0 MB/s eta 0:00:01\r\u001b[K     |████████████████████▎           | 92 kB 6.6 MB/s eta 0:00:01\r\u001b[K     |██████████████████████▌         | 102 kB 5.2 MB/s eta 0:00:01\r\u001b[K     |████████████████████████▊       | 112 kB 5.2 MB/s eta 0:00:01\r\u001b[K     |███████████████████████████     | 122 kB 5.2 MB/s eta 0:00:01\r\u001b[K     |█████████████████████████████▎  | 133 kB 5.2 MB/s eta 0:00:01\r\u001b[K     |███████████████████████████████▌| 143 kB 5.2 MB/s eta 0:00:01\r\u001b[K     |████████████████████████████████| 145 kB 5.2 MB/s \n",
            "\u001b[K     |████████████████████████████████| 178 kB 38.9 MB/s \n",
            "\u001b[K     |████████████████████████████████| 1.1 MB 44.5 MB/s \n",
            "\u001b[K     |████████████████████████████████| 67 kB 4.7 MB/s \n",
            "\u001b[K     |████████████████████████████████| 54 kB 1.5 MB/s \n",
            "\u001b[K     |████████████████████████████████| 138 kB 43.0 MB/s \n",
            "\u001b[K     |████████████████████████████████| 63 kB 1.6 MB/s \n",
            "\u001b[?25h  Building wheel for roboflow (setup.py) ... \u001b[?25l\u001b[?25hdone\n",
            "  Building wheel for wget (setup.py) ... \u001b[?25l\u001b[?25hdone\n",
            "\u001b[31mERROR: pip's dependency resolver does not currently take into account all the packages that are installed. This behaviour is the source of the following dependency conflicts.\n",
            "google-colab 1.0.0 requires requests~=2.23.0, but you have requests 2.27.1 which is incompatible.\n",
            "datascience 0.10.6 requires folium==0.2.1, but you have folium 0.8.3 which is incompatible.\n",
            "albumentations 0.1.12 requires imgaug<0.2.7,>=0.2.5, but you have imgaug 0.2.9 which is incompatible.\u001b[0m\n",
            "upload and label your dataset, and get an API KEY here: https://app.roboflow.com/?model=yolov5&ref=roboflow-yolov5\n"
          ]
        }
      ]
    },
    {
      "cell_type": "code",
      "source": [
        "%cd /content/yolov5"
      ],
      "metadata": {
        "colab": {
          "base_uri": "https://localhost:8080/"
        },
        "id": "kX13RLUeUmc3",
        "outputId": "16f0a51c-ba5e-4e77-e824-d31316335cb2"
      },
      "execution_count": null,
      "outputs": [
        {
          "output_type": "stream",
          "name": "stdout",
          "text": [
            "/content/yolov5\n"
          ]
        }
      ]
    },
    {
      "cell_type": "code",
      "source": [
        "from roboflow import Roboflow\n",
        "rf = Roboflow(api_key=\"iCf3xFcqlvo2SGXngQKT\")\n",
        "project = rf.workspace(\"ashish-kumar-singh\").project(\"hardhat_detection\")\n",
        "dataset = project.version(1).download(\"yolov5\")"
      ],
      "metadata": {
        "colab": {
          "base_uri": "https://localhost:8080/"
        },
        "id": "1K9MKNqAUpEu",
        "outputId": "db533d6a-95ef-4888-efe6-7a11dec15608"
      },
      "execution_count": null,
      "outputs": [
        {
          "output_type": "stream",
          "name": "stdout",
          "text": [
            "loading Roboflow workspace...\n",
            "loading Roboflow project...\n",
            "Downloading Dataset Version Zip in hardhat_detection-1 to yolov5pytorch: 100% [156220375 / 156220375] bytes\n"
          ]
        },
        {
          "output_type": "stream",
          "name": "stderr",
          "text": [
            "Extracting Dataset Version Zip to hardhat_detection-1 in yolov5pytorch:: 100%|██████████| 9512/9512 [00:10<00:00, 865.84it/s] \n"
          ]
        }
      ]
    },
    {
      "cell_type": "code",
      "source": [
        "%cat {dataset.location}/data.yaml"
      ],
      "metadata": {
        "colab": {
          "base_uri": "https://localhost:8080/"
        },
        "id": "G-GgRBUjUrgj",
        "outputId": "4b4b97e4-6190-479a-9b4e-79026440bac2"
      },
      "execution_count": null,
      "outputs": [
        {
          "output_type": "stream",
          "name": "stdout",
          "text": [
            "names:\n",
            "- head\n",
            "- helmet\n",
            "- person\n",
            "nc: 3\n",
            "train: hardhat_detection-1/train/images\n",
            "val: hardhat_detection-1/valid/images\n"
          ]
        }
      ]
    },
    {
      "cell_type": "code",
      "source": [
        "!python test.py --data {dataset.location}/data.yaml --weights /content/drive/MyDrive/hard_hat_detection/best.pt"
      ],
      "metadata": {
        "colab": {
          "base_uri": "https://localhost:8080/"
        },
        "id": "9PokCYNKU6lO",
        "outputId": "a9ce6e35-d8cb-4987-eada-bceafd56175f"
      },
      "execution_count": null,
      "outputs": [
        {
          "output_type": "stream",
          "name": "stdout",
          "text": [
            "Namespace(augment=False, batch_size=32, conf_thres=0.001, data='/content/yolov5/hardhat_detection-1/data.yaml', device='', exist_ok=False, img_size=640, iou_thres=0.6, name='exp', project='runs/test', save_conf=False, save_hybrid=False, save_json=False, save_txt=False, single_cls=False, task='val', verbose=False, weights=['/content/drive/MyDrive/hard_hat_detection/best.pt'])\n",
            "YOLOv5 v4.0-126-g886f1c0 torch 1.10.0+cu111 CUDA:0 (Tesla K80, 11441.1875MB)\n",
            "\n",
            "Fusing layers... \n",
            "/usr/local/lib/python3.7/dist-packages/torch/functional.py:445: UserWarning: torch.meshgrid: in an upcoming release, it will be required to pass the indexing argument. (Triggered internally at  ../aten/src/ATen/native/TensorShape.cpp:2157.)\n",
            "  return _VF.meshgrid(tensors, **kwargs)  # type: ignore[attr-defined]\n",
            "Model Summary: 232 layers, 7251912 parameters, 0 gradients, 16.8 GFLOPS\n",
            "\u001b[34m\u001b[1mval: \u001b[0mScanning 'hardhat_detection-1/valid/labels.cache' for images and labels... 950 found, 0 missing, 1 empty, 0 corrupted: 100% 950/950 [00:00<?, ?it/s]\n",
            "               Class      Images     Targets           P           R      mAP@.5  mAP@.5:.95: 100% 30/30 [00:31<00:00,  1.05s/it]\n",
            "                 all         950    4.74e+03       0.587       0.568         0.6       0.345\n",
            "                head         950    1.02e+03       0.866       0.847       0.884       0.504\n",
            "              helmet         950    3.62e+03       0.896       0.858       0.913       0.529\n",
            "              person         950         106           0           0     0.00361    0.000905\n",
            "Speed: 22.8/2.5/25.3 ms inference/NMS/total per 640x640 image at batch-size 32\n",
            "Results saved to runs/test/exp3\n"
          ]
        }
      ]
    },
    {
      "cell_type": "code",
      "source": [
        "!python test.py --data {dataset.location}/data.yaml --weights /content/drive/MyDrive/hard_hat_detection/best.pt"
      ],
      "metadata": {
        "colab": {
          "base_uri": "https://localhost:8080/"
        },
        "id": "Pjn7PBEiZBJ2",
        "outputId": "a640cd34-d0eb-4da6-d727-d0f1f35fd220"
      },
      "execution_count": null,
      "outputs": [
        {
          "output_type": "stream",
          "name": "stdout",
          "text": [
            "Namespace(augment=False, batch_size=32, conf_thres=0.001, data='/content/yolov5/hardhat_detection-1/data.yaml', device='', exist_ok=False, img_size=640, iou_thres=0.6, name='exp', project='runs/test', save_conf=False, save_hybrid=False, save_json=False, save_txt=False, single_cls=False, task='val', verbose=False, weights=['/content/drive/MyDrive/hard_hat_detection/best.pt'])\n",
            "YOLOv5 v4.0-126-g886f1c0 torch 1.10.0+cu111 CUDA:0 (Tesla K80, 11441.1875MB)\n",
            "\n",
            "Fusing layers... \n",
            "/usr/local/lib/python3.7/dist-packages/torch/functional.py:445: UserWarning: torch.meshgrid: in an upcoming release, it will be required to pass the indexing argument. (Triggered internally at  ../aten/src/ATen/native/TensorShape.cpp:2157.)\n",
            "  return _VF.meshgrid(tensors, **kwargs)  # type: ignore[attr-defined]\n",
            "Model Summary: 232 layers, 7251912 parameters, 0 gradients, 16.8 GFLOPS\n",
            "\u001b[34m\u001b[1mval: \u001b[0mScanning 'hardhat_detection-1/test/labels' for images and labels... 475 found, 0 missing, 0 empty, 0 corrupted: 100% 475/475 [00:00<00:00, 2172.77it/s]\n",
            "\u001b[34m\u001b[1mval: \u001b[0mNew cache created: hardhat_detection-1/test/labels.cache\n",
            "               Class      Images     Targets           P           R      mAP@.5  mAP@.5:.95: 100% 15/15 [00:17<00:00,  1.15s/it]\n",
            "                 all         475    2.27e+03       0.932       0.557       0.602       0.353\n",
            "                head         475         574       0.883       0.817       0.886       0.515\n",
            "              helmet         475    1.62e+03       0.915       0.854       0.914       0.543\n",
            "              person         475          74           1           0     0.00552     0.00181\n",
            "Speed: 23.2/2.5/25.7 ms inference/NMS/total per 640x640 image at batch-size 32\n",
            "Results saved to runs/test/exp4\n"
          ]
        }
      ]
    },
    {
      "cell_type": "code",
      "source": [
        "!python test.py --data {dataset.location}/data.yaml --weights /content/drive/MyDrive/hard_hat_detection/best.pt"
      ],
      "metadata": {
        "colab": {
          "base_uri": "https://localhost:8080/"
        },
        "id": "Pcbg_ONaagdi",
        "outputId": "018d0c88-7a28-4666-f54a-c27dcacdd397"
      },
      "execution_count": null,
      "outputs": [
        {
          "output_type": "stream",
          "name": "stdout",
          "text": [
            "Namespace(augment=False, batch_size=32, conf_thres=0.001, data='/content/yolov5/hardhat_detection-1/data.yaml', device='', exist_ok=False, img_size=640, iou_thres=0.6, name='exp', project='runs/test', save_conf=False, save_hybrid=False, save_json=False, save_txt=False, single_cls=False, task='val', verbose=False, weights=['/content/drive/MyDrive/hard_hat_detection/best.pt'])\n",
            "YOLOv5 v4.0-126-g886f1c0 torch 1.10.0+cu111 CUDA:0 (Tesla K80, 11441.1875MB)\n",
            "\n",
            "Fusing layers... \n",
            "/usr/local/lib/python3.7/dist-packages/torch/functional.py:445: UserWarning: torch.meshgrid: in an upcoming release, it will be required to pass the indexing argument. (Triggered internally at  ../aten/src/ATen/native/TensorShape.cpp:2157.)\n",
            "  return _VF.meshgrid(tensors, **kwargs)  # type: ignore[attr-defined]\n",
            "Model Summary: 232 layers, 7251912 parameters, 0 gradients, 16.8 GFLOPS\n",
            "\u001b[34m\u001b[1mval: \u001b[0mScanning 'hardhat_detection-1/train/labels' for images and labels... 3325 found, 0 missing, 4 empty, 0 corrupted: 100% 3325/3325 [00:01<00:00, 2172.90it/s]\n",
            "\u001b[34m\u001b[1mval: \u001b[0mNew cache created: hardhat_detection-1/train/labels.cache\n",
            "               Class      Images     Targets           P           R      mAP@.5  mAP@.5:.95: 100% 104/104 [01:45<00:00,  1.01s/it]\n",
            "                 all    3.32e+03     1.7e+04       0.661       0.658       0.667       0.382\n",
            "                head    3.32e+03    3.82e+03       0.803       0.908       0.918       0.535\n",
            "              helmet    3.32e+03    1.26e+04       0.851       0.923       0.942       0.567\n",
            "              person    3.32e+03         542        0.33       0.144       0.142      0.0436\n",
            "Speed: 22.7/2.2/24.9 ms inference/NMS/total per 640x640 image at batch-size 32\n",
            "Results saved to runs/test/exp5\n"
          ]
        }
      ]
    }
  ]
}